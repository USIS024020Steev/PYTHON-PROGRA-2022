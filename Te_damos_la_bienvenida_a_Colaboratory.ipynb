{
  "cells": [
    {
      "cell_type": "markdown",
      "metadata": {
        "id": "view-in-github",
        "colab_type": "text"
      },
      "source": [
        "<a href=\"https://colab.research.google.com/github/USIS024020Steev/PYTHON-PROGRA-2022/blob/main/Te_damos_la_bienvenida_a_Colaboratory.ipynb\" target=\"_parent\"><img src=\"https://colab.research.google.com/assets/colab-badge.svg\" alt=\"Open In Colab\"/></a>"
      ]
    },
    {
      "cell_type": "code",
      "source": [
        "nombre = \"Steven Amilcar Quintanilla Villalta\"\n",
        "print(\"Hola\", nombre, nombre[2], type(nombre))\n",
        "\n",
        "print(\"Tu edad es:\", type(nombre))\n",
        "\n"
      ],
      "metadata": {
        "colab": {
          "base_uri": "https://localhost:8080/"
        },
        "id": "7j2MsP5EvnXd",
        "outputId": "c5d777a8-60df-4916-f1fe-372b206c4a64"
      },
      "execution_count": null,
      "outputs": [
        {
          "output_type": "stream",
          "name": "stdout",
          "text": [
            "Hola Steven Amilcar Quintanilla Villalta e <class 'str'>\n",
            "Tu edad es: <class 'str'>\n"
          ]
        }
      ]
    },
    {
      "cell_type": "code",
      "source": [
        "programacion = True\n",
        "diseno = False\n",
        "print(\"Te gusta Progra\", programacion, \"Te gusta diseño\", diseno, type(programacion))"
      ],
      "metadata": {
        "colab": {
          "base_uri": "https://localhost:8080/"
        },
        "id": "ajDDC9wAwRWJ",
        "outputId": "b3073e27-0255-4c73-cbb5-8b10610b0f9e"
      },
      "execution_count": null,
      "outputs": [
        {
          "output_type": "stream",
          "name": "stdout",
          "text": [
            "Te gusta Progra True Te gusta diseño False <class 'bool'>\n"
          ]
        }
      ]
    },
    {
      "cell_type": "code",
      "source": [
        "edad = int(input(\"Dime tu edad: \"))\n",
        "if edad >= 18: #Esta comparacion da un valor booleano\n",
        "  print(\"Eres un adulto, tienes responsabilidades...\")\n",
        "else:\n",
        "  print(\"Eres libre\")"
      ],
      "metadata": {
        "colab": {
          "base_uri": "https://localhost:8080/"
        },
        "id": "nTKW4f0SwU-W",
        "outputId": "6ba4c8c2-131b-4ecc-ee6f-ca5dae8fedef"
      },
      "execution_count": null,
      "outputs": [
        {
          "output_type": "stream",
          "name": "stdout",
          "text": [
            "Dime tu edad: 20\n",
            "Eres un adulto, tienes responsabilidades...\n"
          ]
        }
      ]
    },
    {
      "cell_type": "code",
      "source": [
        "def suma(num1, num2):\n",
        "  resp = num1 + num2\n",
        "  return resp\n",
        "print(\"La suma es: \", suma(5,6))"
      ],
      "metadata": {
        "colab": {
          "base_uri": "https://localhost:8080/"
        },
        "id": "K8AYy1xRwZpH",
        "outputId": "3f51850a-ecbd-4fc8-b564-c40ceac07bc8"
      },
      "execution_count": null,
      "outputs": [
        {
          "output_type": "stream",
          "name": "stdout",
          "text": [
            "La suma es:  11\n"
          ]
        }
      ]
    },
    {
      "cell_type": "code",
      "source": [
        "sumaNumeros = lambda num1, num2: num1 + num2 #funciones anonimas\n",
        "print(\"Suma:\", sumaNumeros(4, 6))"
      ],
      "metadata": {
        "colab": {
          "base_uri": "https://localhost:8080/"
        },
        "id": "7jvF8v4Qwf6b",
        "outputId": "5588a59b-c725-46a3-d62d-22d7b1242ea5"
      },
      "execution_count": null,
      "outputs": [
        {
          "output_type": "stream",
          "name": "stdout",
          "text": [
            "Suma: 10\n"
          ]
        }
      ]
    },
    {
      "cell_type": "code",
      "source": [
        "#Tabla de meses acumulados a n meses. Si puede encontrar la formula matemática para evitar ciclos. (10%)\n",
        "\n",
        "mes = int(input(\"Escriba cuantos meses va a pagar: \"))\n",
        "def sum(mes):\n",
        "  n = mes\n",
        "  formula = n * (n + 1) / 2\n",
        "  total = formula\n",
        "  print(\"Mes:\", n, \"\\nAcumulado:\", total)\n",
        "\n",
        "sum(mes)"
      ],
      "metadata": {
        "colab": {
          "base_uri": "https://localhost:8080/"
        },
        "id": "iiCnp9bqpDFw",
        "outputId": "8e0dd8d9-da27-4f26-b26b-6b1c3b4607ed"
      },
      "execution_count": null,
      "outputs": [
        {
          "output_type": "stream",
          "name": "stdout",
          "text": [
            "Escriba cuantos meses va a pagar: 2\n",
            "Mes: 2 \n",
            "Acumulado: 3.0\n"
          ]
        }
      ]
    },
    {
      "cell_type": "code",
      "source": [
        "#Calcular sobre el sueldo las deducciones por ley ISSS (3%), AFP(6.25%), ISR(Según tabla) e imprima el total deducciones y sueldo neto. (20%)\n",
        "\n",
        "\n",
        "def calcrDeduc(sa):\n",
        "\n",
        "  if sa >= 1000:\n",
        "    Iss = 30.00\n",
        "  else: \n",
        "    Iss = round(sa * 0.03, 2)\n",
        "\n",
        "  Afp = round(sa * 0.0625, 2)\n",
        "  Isr = sa - Iss - Afp\n",
        "  if Isr >= 0.01 and Isr <= 472.00:  \n",
        "    totalIsr = 0.00\n",
        "    salNetoMen = sa - Iss - Afp - totalIsr\n",
        "    #print(\"Primer tramo desde $0.01 hasta $472.00\")\n",
        "    print(\"No pagas renta\")\n",
        "\n",
        "  #Isr = sa - Iss - Afp #Ejem: 600-18(iss)-43.50(afp) -> 538.50 - sobreexcedente(472.00)=66.00 -> 66.00*(tas porcen)10%=6.60 ->6.60+(cuota fija)17.67=24.27 ISR\n",
        "\n",
        "  elif Isr >= 472.01 and Isr <= 895.24:\n",
        "    sobreExceso = 472.00 #valor sobre exceso por tramo\n",
        "    PorcApli = 0.1 #porcentaje aplicado por tramo\n",
        "    cuota = 17.67 #Cuota fija aplicado por tramo\n",
        "\n",
        "    totalIsr = round((Isr - sobreExceso), 2)\n",
        "    totalIsr = round((totalIsr * PorcApli)+cuota, 2)\n",
        "    print(\"Segundo tramo desde $472.01 hasta $895.24\")\n",
        "    salNetoMen = round(sa - Iss - Afp - totalIsr, 2)\n",
        "\n",
        "  elif Isr >= 895.25 and Isr <= 2038.10:\n",
        "    sobreExceso = 895.24 \n",
        "    PorcApli = 0.2\n",
        "    cuota = 60.00 \n",
        "\n",
        "    totalIsr = round((Isr - sobreExceso), 2)\n",
        "    totalIsr = round((totalIsr * PorcApli)+cuota, 2)\n",
        "    print(\"Tercer tramo desde $895.25 hasta $2,038.10\")\n",
        "    salNetoMen = round(sa - Iss - Afp - totalIsr, 2)\n",
        "\n",
        "  elif Isr >= 2038.11:\n",
        "    sobreExceso = 2038.10 \n",
        "    PorcApli = 0.3 \n",
        "    cuota = 288.57\n",
        "\n",
        "    totalIsr = round((Isr - sobreExceso), 2)\n",
        "    totalIsr = round((totalIsr * PorcApli)+cuota, 2)\n",
        "    print(\"Cuarto tramo desde $2,038.11 En adelante\")\n",
        "    salNetoMen = round(sa - Iss - Afp - totalIsr, 2)\n",
        "\n",
        "  print(\"-\"*30)\n",
        "  print(\"AFP:\", Afp, \"\\nISS:\", Iss, \"\\nISR (Renta):\", totalIsr, \"\\nSalario neto mensual:\", salNetoMen)\n",
        "  print(\"-\"*30)\n",
        "\n",
        "calcrDeduc(550)"
      ],
      "metadata": {
        "colab": {
          "base_uri": "https://localhost:8080/"
        },
        "id": "nAZY2ypgqJm_",
        "outputId": "7f3e978d-078d-4173-c840-efea41c19123"
      },
      "execution_count": null,
      "outputs": [
        {
          "output_type": "stream",
          "name": "stdout",
          "text": [
            "Segundo tramo desde $472.01 hasta $895.24\n",
            "------------------------------\n",
            "AFP: 34.38 \n",
            "ISS: 16.5 \n",
            "ISR (Renta): 20.38 \n",
            "Salario neto mensual: 478.74\n",
            "------------------------------\n"
          ]
        }
      ]
    },
    {
      "cell_type": "code",
      "source": [
        "#poo\n",
        "class deducciones:\n",
        "  def _init__ (self, sueldo, porcentajeIsss):\n",
        "    self .sueldo = sueldo #this\n",
        "    self .porcentajesIsss = porcentajeIsss\n",
        "\n",
        "  def calcularIsss(self):\n",
        "    return self.sueldo * self.porcentajeIsss/100 \n"
      ],
      "metadata": {
        "id": "BmKxDHgB4fUp"
      },
      "execution_count": 13,
      "outputs": []
    },
    {
      "cell_type": "code",
      "source": [
        "#personas...\n",
        "#porcentajeIsss = 3 #puede venir de una BD"
      ],
      "metadata": {
        "id": "Hh1N4xv67ht8"
      },
      "execution_count": null,
      "outputs": []
    },
    {
      "cell_type": "code",
      "source": [
        "#Empresas\n",
        "porcentajeIsss= 7.5"
      ],
      "metadata": {
        "id": "Hx1Lv0Eu7wpq"
      },
      "execution_count": 14,
      "outputs": []
    },
    {
      "cell_type": "code",
      "source": [
        "#personas...\n",
        "porcentajeIsssP = 3 #puede venir de una BD\n",
        "porcentajeAfpP = 6.25\n",
        "tablaIsrP = [\n",
        "    [0.01, 472, 0, 0], #tramo I\n",
        "    [472.01, 895.24, 0.1, 17.67] #tramo II\n",
        "    [895.25, 2038.10, 0.2, 60] #tramo III\n",
        "]"
      ],
      "metadata": {
        "id": "9eX6PnthB425"
      },
      "execution_count": 20,
      "outputs": []
    }
  ],
  "metadata": {
    "colab": {
      "collapsed_sections": [],
      "name": "Te damos la bienvenida a Colaboratory",
      "provenance": [],
      "include_colab_link": true
    },
    "kernelspec": {
      "display_name": "Python 3",
      "name": "python3"
    }
  },
  "nbformat": 4,
  "nbformat_minor": 0
}