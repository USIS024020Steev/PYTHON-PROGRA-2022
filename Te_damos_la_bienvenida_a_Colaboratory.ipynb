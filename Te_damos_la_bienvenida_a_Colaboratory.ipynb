{
  "cells": [
    {
      "cell_type": "markdown",
      "metadata": {
        "id": "view-in-github",
        "colab_type": "text"
      },
      "source": [
        "<a href=\"https://colab.research.google.com/github/USIS024020Steev/PYTHON-PROGRA-2022/blob/main/Te_damos_la_bienvenida_a_Colaboratory.ipynb\" target=\"_parent\"><img src=\"https://colab.research.google.com/assets/colab-badge.svg\" alt=\"Open In Colab\"/></a>"
      ]
    },
    {
      "cell_type": "code",
      "source": [
        "#Tabla de meses acumulados a n meses. Si puede encontrar la formula matemática para evitar ciclos. (10%)\n",
        "\n",
        "mes = int(input(\"Escriba cuantos meses va a pagar: \"))\n",
        "def sum(mes):\n",
        "  n = mes\n",
        "  formula = n * (n + 1) / 2\n",
        "  total = formula\n",
        "  print(\"Mes:\", n, \"\\nAcumulado:\", total)\n",
        "\n",
        "sum(mes)"
      ],
      "metadata": {
        "colab": {
          "base_uri": "https://localhost:8080/"
        },
        "id": "iiCnp9bqpDFw",
        "outputId": "8e0dd8d9-da27-4f26-b26b-6b1c3b4607ed"
      },
      "execution_count": 8,
      "outputs": [
        {
          "output_type": "stream",
          "name": "stdout",
          "text": [
            "Escriba cuantos meses va a pagar: 2\n",
            "Mes: 2 \n",
            "Acumulado: 3.0\n"
          ]
        }
      ]
    },
    {
      "cell_type": "code",
      "source": [
        "#Calcular sobre el sueldo las deducciones por ley ISSS (3%), AFP(6.25%), ISR(Según tabla) e imprima el total deducciones y sueldo neto. (20%)\n",
        "\n",
        "\n",
        "def calcrDeduc(sa):\n",
        "\n",
        "  if sa >= 1000:\n",
        "    Iss = 30.00\n",
        "  else: \n",
        "    Iss = round(sa * 0.03, 2)\n",
        "\n",
        "  Afp = round(sa * 0.0625, 2)\n",
        "  Isr = sa - Iss - Afp\n",
        "  if Isr >= 0.01 and Isr <= 472.00:  \n",
        "    totalIsr = 0.00\n",
        "    salNetoMen = sa - Iss - Afp - totalIsr\n",
        "    #print(\"Primer tramo desde $0.01 hasta $472.00\")\n",
        "    print(\"No pagas renta\")\n",
        "\n",
        "  #Isr = sa - Iss - Afp #Ejem: 600-18(iss)-43.50(afp) -> 538.50 - sobreexcedente(472.00)=66.00 -> 66.00*(tas porcen)10%=6.60 ->6.60+(cuota fija)17.67=24.27 ISR\n",
        "\n",
        "  elif Isr >= 472.01 and Isr <= 895.24:\n",
        "    sobreExceso = 472.00 #valor sobre exceso por tramo\n",
        "    PorcApli = 0.1 #porcentaje aplicado por tramo\n",
        "    cuota = 17.67 #Cuota fija aplicado por tramo\n",
        "\n",
        "    totalIsr = round((Isr - sobreExceso), 2)\n",
        "    totalIsr = round((totalIsr * PorcApli)+cuota, 2)\n",
        "    print(\"Segundo tramo desde $472.01 hasta $895.24\")\n",
        "    salNetoMen = round(sa - Iss - Afp - totalIsr, 2)\n",
        "\n",
        "  elif Isr >= 895.25 and Isr <= 2038.10:\n",
        "    sobreExceso = 895.24 \n",
        "    PorcApli = 0.2\n",
        "    cuota = 60.00 \n",
        "\n",
        "    totalIsr = round((Isr - sobreExceso), 2)\n",
        "    totalIsr = round((totalIsr * PorcApli)+cuota, 2)\n",
        "    print(\"Tercer tramo desde $895.25 hasta $2,038.10\")\n",
        "    salNetoMen = round(sa - Iss - Afp - totalIsr, 2)\n",
        "\n",
        "  elif Isr >= 2038.11:\n",
        "    sobreExceso = 2038.10 \n",
        "    PorcApli = 0.3 \n",
        "    cuota = 288.57\n",
        "\n",
        "    totalIsr = round((Isr - sobreExceso), 2)\n",
        "    totalIsr = round((totalIsr * PorcApli)+cuota, 2)\n",
        "    print(\"Cuarto tramo desde $2,038.11 En adelante\")\n",
        "    salNetoMen = round(sa - Iss - Afp - totalIsr, 2)\n",
        "\n",
        "  print(\"-\"*30)\n",
        "  print(\"AFP:\", Afp, \"\\nISS:\", Iss, \"\\nISR (Renta):\", totalIsr, \"\\nSalario neto mensual:\", salNetoMen)\n",
        "  print(\"-\"*30)\n",
        "\n",
        "calcrDeduc(550)"
      ],
      "metadata": {
        "colab": {
          "base_uri": "https://localhost:8080/"
        },
        "id": "nAZY2ypgqJm_",
        "outputId": "7f3e978d-078d-4173-c840-efea41c19123"
      },
      "execution_count": 9,
      "outputs": [
        {
          "output_type": "stream",
          "name": "stdout",
          "text": [
            "Segundo tramo desde $472.01 hasta $895.24\n",
            "------------------------------\n",
            "AFP: 34.38 \n",
            "ISS: 16.5 \n",
            "ISR (Renta): 20.38 \n",
            "Salario neto mensual: 478.74\n",
            "------------------------------\n"
          ]
        }
      ]
    }
  ],
  "metadata": {
    "colab": {
      "collapsed_sections": [],
      "name": "Te damos la bienvenida a Colaboratory",
      "provenance": [],
      "include_colab_link": true
    },
    "kernelspec": {
      "display_name": "Python 3",
      "name": "python3"
    }
  },
  "nbformat": 4,
  "nbformat_minor": 0
}