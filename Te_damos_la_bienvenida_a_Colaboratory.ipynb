{
  "cells": [
    {
      "cell_type": "markdown",
      "metadata": {
        "id": "view-in-github",
        "colab_type": "text"
      },
      "source": [
        "<a href=\"https://colab.research.google.com/github/USIS024020Steev/PYTHON-PROGRA-2022/blob/main/Te_damos_la_bienvenida_a_Colaboratory.ipynb\" target=\"_parent\"><img src=\"https://colab.research.google.com/assets/colab-badge.svg\" alt=\"Open In Colab\"/></a>"
      ]
    },
    {
      "cell_type": "code",
      "source": [
        "nombre = \"Steven Amilcar Quintanilla Villalta\"\n",
        "print(\"Hola\", nombre, nombre[2], type(nombre))\n",
        "\n",
        "print(\"Tu edad es:\", type(nombre))\n",
        "\n"
      ],
      "metadata": {
        "colab": {
          "base_uri": "https://localhost:8080/"
        },
        "id": "7j2MsP5EvnXd",
        "outputId": "c5d777a8-60df-4916-f1fe-372b206c4a64"
      },
      "execution_count": null,
      "outputs": [
        {
          "output_type": "stream",
          "name": "stdout",
          "text": [
            "Hola Steven Amilcar Quintanilla Villalta e <class 'str'>\n",
            "Tu edad es: <class 'str'>\n"
          ]
        }
      ]
    },
    {
      "cell_type": "code",
      "source": [
        "programacion = True\n",
        "diseno = False\n",
        "print(\"Te gusta Progra\", programacion, \"Te gusta diseño\", diseno, type(programacion))"
      ],
      "metadata": {
        "colab": {
          "base_uri": "https://localhost:8080/"
        },
        "id": "ajDDC9wAwRWJ",
        "outputId": "b3073e27-0255-4c73-cbb5-8b10610b0f9e"
      },
      "execution_count": null,
      "outputs": [
        {
          "output_type": "stream",
          "name": "stdout",
          "text": [
            "Te gusta Progra True Te gusta diseño False <class 'bool'>\n"
          ]
        }
      ]
    },
    {
      "cell_type": "code",
      "source": [
        "edad = int(input(\"Dime tu edad: \"))\n",
        "if edad >= 18: #Esta comparacion da un valor booleano\n",
        "  print(\"Eres un adulto, tienes responsabilidades...\")\n",
        "else:\n",
        "  print(\"Eres libre\")"
      ],
      "metadata": {
        "colab": {
          "base_uri": "https://localhost:8080/"
        },
        "id": "nTKW4f0SwU-W",
        "outputId": "6ba4c8c2-131b-4ecc-ee6f-ca5dae8fedef"
      },
      "execution_count": null,
      "outputs": [
        {
          "output_type": "stream",
          "name": "stdout",
          "text": [
            "Dime tu edad: 20\n",
            "Eres un adulto, tienes responsabilidades...\n"
          ]
        }
      ]
    },
    {
      "cell_type": "code",
      "source": [
        "def suma(num1, num2):\n",
        "  resp = num1 + num2\n",
        "  return resp\n",
        "print(\"La suma es: \", suma(5,6))"
      ],
      "metadata": {
        "colab": {
          "base_uri": "https://localhost:8080/"
        },
        "id": "K8AYy1xRwZpH",
        "outputId": "3f51850a-ecbd-4fc8-b564-c40ceac07bc8"
      },
      "execution_count": null,
      "outputs": [
        {
          "output_type": "stream",
          "name": "stdout",
          "text": [
            "La suma es:  11\n"
          ]
        }
      ]
    },
    {
      "cell_type": "code",
      "source": [
        "sumaNumeros = lambda num1, num2: num1 + num2 #funciones anonimas\n",
        "print(\"Suma:\", sumaNumeros(4, 6))"
      ],
      "metadata": {
        "colab": {
          "base_uri": "https://localhost:8080/"
        },
        "id": "7jvF8v4Qwf6b",
        "outputId": "5588a59b-c725-46a3-d62d-22d7b1242ea5"
      },
      "execution_count": null,
      "outputs": [
        {
          "output_type": "stream",
          "name": "stdout",
          "text": [
            "Suma: 10\n"
          ]
        }
      ]
    },
    {
      "cell_type": "code",
      "source": [
        "#Tabla de meses acumulados a n meses. Si puede encontrar la formula matemática para evitar ciclos. (10%)\n",
        "\n",
        "mes = int(input(\"Escriba cuantos meses va a pagar: \"))\n",
        "def sum(mes):\n",
        "  n = mes\n",
        "  formula = n * (n + 1) / 2\n",
        "  total = formula\n",
        "  print(\"Mes:\", n, \"\\nAcumulado:\", total)\n",
        "\n",
        "sum(mes)"
      ],
      "metadata": {
        "colab": {
          "base_uri": "https://localhost:8080/"
        },
        "id": "iiCnp9bqpDFw",
        "outputId": "8e0dd8d9-da27-4f26-b26b-6b1c3b4607ed"
      },
      "execution_count": null,
      "outputs": [
        {
          "output_type": "stream",
          "name": "stdout",
          "text": [
            "Escriba cuantos meses va a pagar: 2\n",
            "Mes: 2 \n",
            "Acumulado: 3.0\n"
          ]
        }
      ]
    },
    {
      "cell_type": "code",
      "source": [
        "#Calcular sobre el sueldo las deducciones por ley ISSS (3%), AFP(6.25%), ISR(Según tabla) e imprima el total deducciones y sueldo neto. (20%)\n",
        "\n",
        "\n",
        "def calcrDeduc(sa):\n",
        "\n",
        "  if sa >= 1000:\n",
        "    Iss = 30.00\n",
        "  else: \n",
        "    Iss = round(sa * 0.03, 2)\n",
        "\n",
        "  Afp = round(sa * 0.0625, 2)\n",
        "  Isr = sa - Iss - Afp\n",
        "  if Isr >= 0.01 and Isr <= 472.00:  \n",
        "    totalIsr = 0.00\n",
        "    salNetoMen = sa - Iss - Afp - totalIsr\n",
        "    #print(\"Primer tramo desde $0.01 hasta $472.00\")\n",
        "    print(\"No pagas renta\")\n",
        "\n",
        "  #Isr = sa - Iss - Afp #Ejem: 600-18(iss)-43.50(afp) -> 538.50 - sobreexcedente(472.00)=66.00 -> 66.00*(tas porcen)10%=6.60 ->6.60+(cuota fija)17.67=24.27 ISR\n",
        "\n",
        "  elif Isr >= 472.01 and Isr <= 895.24:\n",
        "    sobreExceso = 472.00 #valor sobre exceso por tramo\n",
        "    PorcApli = 0.1 #porcentaje aplicado por tramo\n",
        "    cuota = 17.67 #Cuota fija aplicado por tramo\n",
        "\n",
        "    totalIsr = round((Isr - sobreExceso), 2)\n",
        "    totalIsr = round((totalIsr * PorcApli)+cuota, 2)\n",
        "    print(\"Segundo tramo desde $472.01 hasta $895.24\")\n",
        "    salNetoMen = round(sa - Iss - Afp - totalIsr, 2)\n",
        "\n",
        "  elif Isr >= 895.25 and Isr <= 2038.10:\n",
        "    sobreExceso = 895.24 \n",
        "    PorcApli = 0.2\n",
        "    cuota = 60.00 \n",
        "\n",
        "    totalIsr = round((Isr - sobreExceso), 2)\n",
        "    totalIsr = round((totalIsr * PorcApli)+cuota, 2)\n",
        "    print(\"Tercer tramo desde $895.25 hasta $2,038.10\")\n",
        "    salNetoMen = round(sa - Iss - Afp - totalIsr, 2)\n",
        "\n",
        "  elif Isr >= 2038.11:\n",
        "    sobreExceso = 2038.10 \n",
        "    PorcApli = 0.3 \n",
        "    cuota = 288.57\n",
        "\n",
        "    totalIsr = round((Isr - sobreExceso), 2)\n",
        "    totalIsr = round((totalIsr * PorcApli)+cuota, 2)\n",
        "    print(\"Cuarto tramo desde $2,038.11 En adelante\")\n",
        "    salNetoMen = round(sa - Iss - Afp - totalIsr, 2)\n",
        "\n",
        "  print(\"-\"*30)\n",
        "  print(\"AFP:\", Afp, \"\\nISS:\", Iss, \"\\nISR (Renta):\", totalIsr, \"\\nSalario neto mensual:\", salNetoMen)\n",
        "  print(\"-\"*30)\n",
        "\n",
        "calcrDeduc(550)"
      ],
      "metadata": {
        "colab": {
          "base_uri": "https://localhost:8080/"
        },
        "id": "nAZY2ypgqJm_",
        "outputId": "7f3e978d-078d-4173-c840-efea41c19123"
      },
      "execution_count": null,
      "outputs": [
        {
          "output_type": "stream",
          "name": "stdout",
          "text": [
            "Segundo tramo desde $472.01 hasta $895.24\n",
            "------------------------------\n",
            "AFP: 34.38 \n",
            "ISS: 16.5 \n",
            "ISR (Renta): 20.38 \n",
            "Salario neto mensual: 478.74\n",
            "------------------------------\n"
          ]
        }
      ]
    },
    {
      "cell_type": "code",
      "source": [
        "#poo\n",
        "class deducciones:\n",
        "  def _init__ (self, sueldo, porcentajeIsss):\n",
        "    self .sueldo = sueldo #this\n",
        "    self .porcentajesIsss = porcentajeIsss\n",
        "\n",
        "  def calcularIsss(self):\n",
        "    return self.sueldo * self.porcentajeIsss/100 \n"
      ],
      "metadata": {
        "id": "BmKxDHgB4fUp"
      },
      "execution_count": null,
      "outputs": []
    },
    {
      "cell_type": "code",
      "source": [
        "#personas...\n",
        "#porcentajeIsss = 3 #puede venir de una BD"
      ],
      "metadata": {
        "id": "Hh1N4xv67ht8"
      },
      "execution_count": null,
      "outputs": []
    },
    {
      "cell_type": "code",
      "source": [
        "#Empresas\n",
        "porcentajeIsss= 7.5"
      ],
      "metadata": {
        "id": "Hx1Lv0Eu7wpq"
      },
      "execution_count": null,
      "outputs": []
    },
    {
      "cell_type": "code",
      "source": [
        "#personas...\n",
        "porcentajeIsssP = 3 #puede venir de una BD\n",
        "porcentajeAfpP = 6.25\n",
        "tablaIsrP = [\n",
        "    [0.01, 472, 0, 0], #tramo I\n",
        "    [472.01, 895.24, 0.1, 17.67] #tramo II\n",
        "    [895.25, 2038.10, 0.2, 60] #tramo III\n",
        "]"
      ],
      "metadata": {
        "id": "9eX6PnthB425"
      },
      "execution_count": null,
      "outputs": []
    },
    {
      "cell_type": "markdown",
      "source": [
        "ENTRENAMIENTO DE UNA IA PARA QUE APRENDA A CONVERTIR TEMPERATURAS DE CELSIUS A FARENHEIGHT"
      ],
      "metadata": {
        "id": "jsvpx0uM-Z4E"
      }
    },
    {
      "cell_type": "code",
      "source": [
        "import tensorflow as tf\n",
        "import matplotlib.pyplot as plt \n",
        "import pandas as pd\n",
        "import seaborn as sb"
      ],
      "metadata": {
        "id": "zIi26wMz-uhZ"
      },
      "execution_count": 1,
      "outputs": []
    },
    {
      "cell_type": "code",
      "source": [
        "temperaturas = pd.read_csv(\"/content/temperaturas.csv\", sep=\";\")\n",
        "print(temperaturas)"
      ],
      "metadata": {
        "id": "sC-odJVb_nom"
      },
      "execution_count": null,
      "outputs": []
    },
    {
      "cell_type": "code",
      "source": [
        "c = temperaturas[\"C\"]\n",
        "f = temperaturas[\"F\"]"
      ],
      "metadata": {
        "id": "cuML767BAmdk"
      },
      "execution_count": 27,
      "outputs": []
    },
    {
      "cell_type": "code",
      "source": [
        "sb.scatterplot(c,f)\n",
        "plt.show()"
      ],
      "metadata": {
        "id": "1vdmZc2KEJXr"
      },
      "execution_count": null,
      "outputs": []
    },
    {
      "cell_type": "code",
      "source": [
        "modelo = tf.keras.Sequential()\n",
        "modelo.add(tf.keras.layers.Dense(units=1, input_shape=[1]))\n"
      ],
      "metadata": {
        "id": "HkSwu53FEcKK"
      },
      "execution_count": 31,
      "outputs": []
    },
    {
      "cell_type": "code",
      "source": [
        "modelo.compile(optimizer=tf.keras.optimizers.Adam(1), loss=\"mean_squared_error\")"
      ],
      "metadata": {
        "id": "2pHsLRGBFV4A"
      },
      "execution_count": 32,
      "outputs": []
    },
    {
      "cell_type": "code",
      "source": [
        "epocas = modelo.fit(c,f, epochs=100, verbose=1)"
      ],
      "metadata": {
        "id": "2Pdx4lj0F1ev"
      },
      "execution_count": null,
      "outputs": []
    },
    {
      "cell_type": "code",
      "source": [
        "#PROBAR MUESTRAS\n",
        "\n",
        "resp = modelo.predict([27])\n",
        "print(resp)"
      ],
      "metadata": {
        "colab": {
          "base_uri": "https://localhost:8080/"
        },
        "id": "vc7SGSObGFaH",
        "outputId": "b2f6d146-a9a1-45d9-c7a1-c1ec738d938c"
      },
      "execution_count": 46,
      "outputs": [
        {
          "output_type": "stream",
          "name": "stdout",
          "text": [
            "[[79.28868]]\n"
          ]
        }
      ]
    },
    {
      "cell_type": "code",
      "source": [
        "temperaturak = pd.read_csv(\"/content/temperaturakelvin.csv\", sep=\";\")\n",
        "print(temperaturak)"
      ],
      "metadata": {
        "id": "C8o8UDL9JAbA"
      },
      "execution_count": null,
      "outputs": []
    },
    {
      "cell_type": "code",
      "source": [
        "c = temperaturak[\"c\"]\n",
        "f = temperaturak[\"k\"]"
      ],
      "metadata": {
        "id": "3Xa1y9I9KjEN"
      },
      "execution_count": 55,
      "outputs": []
    },
    {
      "cell_type": "code",
      "source": [
        "sb.scatterplot(c,f)\n",
        "plt.show()"
      ],
      "metadata": {
        "colab": {
          "base_uri": "https://localhost:8080/",
          "height": 334
        },
        "id": "a6Cf4vkgK11U",
        "outputId": "a19b3bca-7978-45d3-aa8f-696c12ef08e4"
      },
      "execution_count": 96,
      "outputs": [
        {
          "output_type": "stream",
          "name": "stderr",
          "text": [
            "/usr/local/lib/python3.7/dist-packages/seaborn/_decorators.py:43: FutureWarning: Pass the following variables as keyword args: x, y. From version 0.12, the only valid positional argument will be `data`, and passing other arguments without an explicit keyword will result in an error or misinterpretation.\n",
            "  FutureWarning\n"
          ]
        },
        {
          "output_type": "display_data",
          "data": {
            "text/plain": [
              "<Figure size 432x288 with 1 Axes>"
            ],
            "image/png": "[encoded data removed]"
          },
          "metadata": {
            "needs_background": "light"
          }
        }
      ]
    },
    {
      "cell_type": "code",
      "source": [
        "modelo2 = tf.keras.Sequential()\n",
        "modelo2.add(tf.keras.layers.Dense(units=1, input_shape=[1]))\n"
      ],
      "metadata": {
        "id": "8kfrHQW0LVhj"
      },
      "execution_count": 62,
      "outputs": []
    },
    {
      "cell_type": "code",
      "source": [
        "modelo2.compile(optimizer=tf.keras.optimizers.Adam(1), loss=\"mean_squared_error\")"
      ],
      "metadata": {
        "id": "Fsk3s_9HLhnq"
      },
      "execution_count": 63,
      "outputs": []
    },
    {
      "cell_type": "code",
      "source": [
        "epocas2 = modelo2.fit(c,f, epochs=100, verbose=1)"
      ],
      "metadata": {
        "colab": {
          "base_uri": "https://localhost:8080/"
        },
        "id": "mvmJJ5rNLmKC",
        "outputId": "b622651d-0d22-4e91-e621-d29641b84f1f"
      },
      "execution_count": 91,
      "outputs": [
        {
          "output_type": "stream",
          "name": "stdout",
          "text": [
            "Epoch 1/100\n",
            "1/1 [==============================] - 0s 7ms/step - loss: 4.5094e-07\n",
            "Epoch 2/100\n",
            "1/1 [==============================] - 0s 10ms/step - loss: 4.5094e-07\n",
            "Epoch 3/100\n",
            "1/1 [==============================] - 0s 8ms/step - loss: 4.5352e-07\n",
            "Epoch 4/100\n",
            "1/1 [==============================] - 0s 8ms/step - loss: 4.5243e-07\n",
            "Epoch 5/100\n",
            "1/1 [==============================] - 0s 7ms/step - loss: 4.5258e-07\n",
            "Epoch 6/100\n",
            "1/1 [==============================] - 0s 9ms/step - loss: 4.4976e-07\n",
            "Epoch 7/100\n",
            "1/1 [==============================] - 0s 9ms/step - loss: 4.5217e-07\n",
            "Epoch 8/100\n",
            "1/1 [==============================] - 0s 6ms/step - loss: 4.5265e-07\n",
            "Epoch 9/100\n",
            "1/1 [==============================] - 0s 5ms/step - loss: 4.5110e-07\n",
            "Epoch 10/100\n",
            "1/1 [==============================] - 0s 5ms/step - loss: 4.5094e-07\n",
            "Epoch 11/100\n",
            "1/1 [==============================] - 0s 5ms/step - loss: 4.5227e-07\n",
            "Epoch 12/100\n",
            "1/1 [==============================] - 0s 4ms/step - loss: 4.5076e-07\n",
            "Epoch 13/100\n",
            "1/1 [==============================] - 0s 4ms/step - loss: 4.5076e-07\n",
            "Epoch 14/100\n",
            "1/1 [==============================] - 0s 4ms/step - loss: 4.5103e-07\n",
            "Epoch 15/100\n",
            "1/1 [==============================] - 0s 4ms/step - loss: 4.5077e-07\n",
            "Epoch 16/100\n",
            "1/1 [==============================] - 0s 4ms/step - loss: 4.5265e-07\n",
            "Epoch 17/100\n",
            "1/1 [==============================] - 0s 4ms/step - loss: 4.5076e-07\n",
            "Epoch 18/100\n",
            "1/1 [==============================] - 0s 4ms/step - loss: 4.5217e-07\n",
            "Epoch 19/100\n",
            "1/1 [==============================] - 0s 4ms/step - loss: 4.5125e-07\n",
            "Epoch 20/100\n",
            "1/1 [==============================] - 0s 4ms/step - loss: 4.5124e-07\n",
            "Epoch 21/100\n",
            "1/1 [==============================] - 0s 4ms/step - loss: 4.5265e-07\n",
            "Epoch 22/100\n",
            "1/1 [==============================] - 0s 4ms/step - loss: 4.5076e-07\n",
            "Epoch 23/100\n",
            "1/1 [==============================] - 0s 3ms/step - loss: 4.5327e-07\n",
            "Epoch 24/100\n",
            "1/1 [==============================] - 0s 4ms/step - loss: 4.5386e-07\n",
            "Epoch 25/100\n",
            "1/1 [==============================] - 0s 4ms/step - loss: 4.5580e-07\n",
            "Epoch 26/100\n",
            "1/1 [==============================] - 0s 4ms/step - loss: 4.5746e-07\n",
            "Epoch 27/100\n",
            "1/1 [==============================] - 0s 4ms/step - loss: 4.5284e-07\n",
            "Epoch 28/100\n",
            "1/1 [==============================] - 0s 4ms/step - loss: 4.4989e-07\n",
            "Epoch 29/100\n",
            "1/1 [==============================] - 0s 4ms/step - loss: 4.5057e-07\n",
            "Epoch 30/100\n",
            "1/1 [==============================] - 0s 4ms/step - loss: 4.5284e-07\n",
            "Epoch 31/100\n",
            "1/1 [==============================] - 0s 4ms/step - loss: 4.5265e-07\n",
            "Epoch 32/100\n",
            "1/1 [==============================] - 0s 4ms/step - loss: 4.5204e-07\n",
            "Epoch 33/100\n",
            "1/1 [==============================] - 0s 4ms/step - loss: 4.4976e-07\n",
            "Epoch 34/100\n",
            "1/1 [==============================] - 0s 4ms/step - loss: 4.4989e-07\n",
            "Epoch 35/100\n",
            "1/1 [==============================] - 0s 4ms/step - loss: 4.5076e-07\n",
            "Epoch 36/100\n",
            "1/1 [==============================] - 0s 4ms/step - loss: 4.5084e-07\n",
            "Epoch 37/100\n",
            "1/1 [==============================] - 0s 4ms/step - loss: 4.5110e-07\n",
            "Epoch 38/100\n",
            "1/1 [==============================] - 0s 4ms/step - loss: 4.5076e-07\n",
            "Epoch 39/100\n",
            "1/1 [==============================] - 0s 4ms/step - loss: 4.4976e-07\n",
            "Epoch 40/100\n",
            "1/1 [==============================] - 0s 4ms/step - loss: 4.4976e-07\n",
            "Epoch 41/100\n",
            "1/1 [==============================] - 0s 4ms/step - loss: 4.5076e-07\n",
            "Epoch 42/100\n",
            "1/1 [==============================] - 0s 4ms/step - loss: 4.5110e-07\n",
            "Epoch 43/100\n",
            "1/1 [==============================] - 0s 4ms/step - loss: 4.5076e-07\n",
            "Epoch 44/100\n",
            "1/1 [==============================] - 0s 4ms/step - loss: 4.5110e-07\n",
            "Epoch 45/100\n",
            "1/1 [==============================] - 0s 5ms/step - loss: 4.5076e-07\n",
            "Epoch 46/100\n",
            "1/1 [==============================] - 0s 4ms/step - loss: 4.5094e-07\n",
            "Epoch 47/100\n",
            "1/1 [==============================] - 0s 4ms/step - loss: 4.5084e-07\n",
            "Epoch 48/100\n",
            "1/1 [==============================] - 0s 4ms/step - loss: 4.5084e-07\n",
            "Epoch 49/100\n",
            "1/1 [==============================] - 0s 4ms/step - loss: 4.5094e-07\n",
            "Epoch 50/100\n",
            "1/1 [==============================] - 0s 4ms/step - loss: 4.5076e-07\n",
            "Epoch 51/100\n",
            "1/1 [==============================] - 0s 4ms/step - loss: 4.4989e-07\n",
            "Epoch 52/100\n",
            "1/1 [==============================] - 0s 4ms/step - loss: 4.5084e-07\n",
            "Epoch 53/100\n",
            "1/1 [==============================] - 0s 4ms/step - loss: 4.5076e-07\n",
            "Epoch 54/100\n",
            "1/1 [==============================] - 0s 4ms/step - loss: 4.5258e-07\n",
            "Epoch 55/100\n",
            "1/1 [==============================] - 0s 4ms/step - loss: 4.5327e-07\n",
            "Epoch 56/100\n",
            "1/1 [==============================] - 0s 4ms/step - loss: 4.5057e-07\n",
            "Epoch 57/100\n",
            "1/1 [==============================] - 0s 4ms/step - loss: 4.5084e-07\n",
            "Epoch 58/100\n",
            "1/1 [==============================] - 0s 4ms/step - loss: 4.5094e-07\n",
            "Epoch 59/100\n",
            "1/1 [==============================] - 0s 4ms/step - loss: 4.4872e-07\n",
            "Epoch 60/100\n",
            "1/1 [==============================] - 0s 4ms/step - loss: 4.5084e-07\n",
            "Epoch 61/100\n",
            "1/1 [==============================] - 0s 4ms/step - loss: 4.5269e-07\n",
            "Epoch 62/100\n",
            "1/1 [==============================] - 0s 4ms/step - loss: 4.5084e-07\n",
            "Epoch 63/100\n",
            "1/1 [==============================] - 0s 4ms/step - loss: 4.4872e-07\n",
            "Epoch 64/100\n",
            "1/1 [==============================] - 0s 4ms/step - loss: 4.5094e-07\n",
            "Epoch 65/100\n",
            "1/1 [==============================] - 0s 5ms/step - loss: 4.5084e-07\n",
            "Epoch 66/100\n",
            "1/1 [==============================] - 0s 4ms/step - loss: 4.5269e-07\n",
            "Epoch 67/100\n",
            "1/1 [==============================] - 0s 4ms/step - loss: 4.5084e-07\n",
            "Epoch 68/100\n",
            "1/1 [==============================] - 0s 5ms/step - loss: 4.4989e-07\n",
            "Epoch 69/100\n",
            "1/1 [==============================] - 0s 4ms/step - loss: 4.4976e-07\n",
            "Epoch 70/100\n",
            "1/1 [==============================] - 0s 6ms/step - loss: 4.5084e-07\n",
            "Epoch 71/100\n",
            "1/1 [==============================] - 0s 5ms/step - loss: 4.5305e-07\n",
            "Epoch 72/100\n",
            "1/1 [==============================] - 0s 5ms/step - loss: 4.5000e-07\n",
            "Epoch 73/100\n",
            "1/1 [==============================] - 0s 5ms/step - loss: 4.5258e-07\n",
            "Epoch 74/100\n",
            "1/1 [==============================] - 0s 5ms/step - loss: 4.5084e-07\n",
            "Epoch 75/100\n",
            "1/1 [==============================] - 0s 5ms/step - loss: 4.5084e-07\n",
            "Epoch 76/100\n",
            "1/1 [==============================] - 0s 5ms/step - loss: 4.5103e-07\n",
            "Epoch 77/100\n",
            "1/1 [==============================] - 0s 5ms/step - loss: 4.5284e-07\n",
            "Epoch 78/100\n",
            "1/1 [==============================] - 0s 5ms/step - loss: 4.5265e-07\n",
            "Epoch 79/100\n",
            "1/1 [==============================] - 0s 6ms/step - loss: 4.5204e-07\n",
            "Epoch 80/100\n",
            "1/1 [==============================] - 0s 5ms/step - loss: 4.4976e-07\n",
            "Epoch 81/100\n",
            "1/1 [==============================] - 0s 6ms/step - loss: 4.4989e-07\n",
            "Epoch 82/100\n",
            "1/1 [==============================] - 0s 5ms/step - loss: 4.4851e-07\n",
            "Epoch 83/100\n",
            "1/1 [==============================] - 0s 6ms/step - loss: 4.4989e-07\n",
            "Epoch 84/100\n",
            "1/1 [==============================] - 0s 6ms/step - loss: 4.5094e-07\n",
            "Epoch 85/100\n",
            "1/1 [==============================] - 0s 6ms/step - loss: 4.5094e-07\n",
            "Epoch 86/100\n",
            "1/1 [==============================] - 0s 6ms/step - loss: 4.5265e-07\n",
            "Epoch 87/100\n",
            "1/1 [==============================] - 0s 5ms/step - loss: 4.5077e-07\n",
            "Epoch 88/100\n",
            "1/1 [==============================] - 0s 5ms/step - loss: 4.5317e-07\n",
            "Epoch 89/100\n",
            "1/1 [==============================] - 0s 5ms/step - loss: 4.5031e-07\n",
            "Epoch 90/100\n",
            "1/1 [==============================] - 0s 5ms/step - loss: 4.5057e-07\n",
            "Epoch 91/100\n",
            "1/1 [==============================] - 0s 5ms/step - loss: 4.5076e-07\n",
            "Epoch 92/100\n",
            "1/1 [==============================] - 0s 5ms/step - loss: 4.5076e-07\n",
            "Epoch 93/100\n",
            "1/1 [==============================] - 0s 5ms/step - loss: 4.5103e-07\n",
            "Epoch 94/100\n",
            "1/1 [==============================] - 0s 6ms/step - loss: 4.5124e-07\n",
            "Epoch 95/100\n",
            "1/1 [==============================] - 0s 5ms/step - loss: 4.5482e-07\n",
            "Epoch 96/100\n",
            "1/1 [==============================] - 0s 5ms/step - loss: 4.5124e-07\n",
            "Epoch 97/100\n",
            "1/1 [==============================] - 0s 5ms/step - loss: 4.5223e-07\n",
            "Epoch 98/100\n",
            "1/1 [==============================] - 0s 6ms/step - loss: 4.5076e-07\n",
            "Epoch 99/100\n",
            "1/1 [==============================] - 0s 5ms/step - loss: 4.5076e-07\n",
            "Epoch 100/100\n",
            "1/1 [==============================] - 0s 5ms/step - loss: 4.5227e-07\n"
          ]
        }
      ]
    },
    {
      "cell_type": "code",
      "source": [
        "#PROBAR MUESTRAS\n",
        "\n",
        "resp = modelo2.predict([40])\n",
        "print(resp)"
      ],
      "metadata": {
        "colab": {
          "base_uri": "https://localhost:8080/"
        },
        "id": "h1ioKaqTLutS",
        "outputId": "c7e40f3c-258b-4e13-bd08-59052c28684b"
      },
      "execution_count": 95,
      "outputs": [
        {
          "output_type": "stream",
          "name": "stdout",
          "text": [
            "[[313.14935]]\n"
          ]
        }
      ]
    }
  ],
  "metadata": {
    "colab": {
      "collapsed_sections": [],
      "name": "Te damos la bienvenida a Colaboratory",
      "provenance": [],
      "include_colab_link": true
    },
    "kernelspec": {
      "display_name": "Python 3",
      "name": "python3"
    }
  },
  "nbformat": 4,
  "nbformat_minor": 0
}