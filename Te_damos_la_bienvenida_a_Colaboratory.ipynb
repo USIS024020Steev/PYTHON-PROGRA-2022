{
  "cells": [
    {
      "cell_type": "markdown",
      "metadata": {
        "id": "view-in-github",
        "colab_type": "text"
      },
      "source": [
        "<a href=\"https://colab.research.google.com/github/USIS024020Steev/PYTHON-PROGRA-2022/blob/main/Te_damos_la_bienvenida_a_Colaboratory.ipynb\" target=\"_parent\"><img src=\"https://colab.research.google.com/assets/colab-badge.svg\" alt=\"Open In Colab\"/></a>"
      ]
    },
    {
      "cell_type": "code",
      "source": [
        "nombre = \"Steven Amilcar Quintanilla Villalta\"\n",
        "print(\"Hola\", nombre, nombre[2], type(nombre))\n",
        "\n",
        "print(\"Tu edad es:\", type(nombre))\n",
        "\n"
      ],
      "metadata": {
        "id": "7j2MsP5EvnXd",
        "outputId": "c5d777a8-60df-4916-f1fe-372b206c4a64",
        "colab": {
          "base_uri": "https://localhost:8080/"
        }
      },
      "execution_count": 15,
      "outputs": [
        {
          "output_type": "stream",
          "name": "stdout",
          "text": [
            "Hola Steven Amilcar Quintanilla Villalta e <class 'str'>\n",
            "Tu edad es: <class 'str'>\n"
          ]
        }
      ]
    },
    {
      "cell_type": "code",
      "source": [
        "programacion = True\n",
        "diseno = False\n",
        "print(\"Te gusta Progra\", programacion, \"Te gusta diseño\", diseno, type(programacion))"
      ],
      "metadata": {
        "id": "ajDDC9wAwRWJ",
        "outputId": "b3073e27-0255-4c73-cbb5-8b10610b0f9e",
        "colab": {
          "base_uri": "https://localhost:8080/"
        }
      },
      "execution_count": 16,
      "outputs": [
        {
          "output_type": "stream",
          "name": "stdout",
          "text": [
            "Te gusta Progra True Te gusta diseño False <class 'bool'>\n"
          ]
        }
      ]
    },
    {
      "cell_type": "code",
      "source": [
        "edad = int(input(\"Dime tu edad: \"))\n",
        "if edad >= 18: #Esta comparacion da un valor booleano\n",
        "  print(\"Eres un adulto, tienes responsabilidades...\")\n",
        "else:\n",
        "  print(\"Eres libre\")"
      ],
      "metadata": {
        "id": "nTKW4f0SwU-W",
        "outputId": "6ba4c8c2-131b-4ecc-ee6f-ca5dae8fedef",
        "colab": {
          "base_uri": "https://localhost:8080/"
        }
      },
      "execution_count": 17,
      "outputs": [
        {
          "output_type": "stream",
          "name": "stdout",
          "text": [
            "Dime tu edad: 20\n",
            "Eres un adulto, tienes responsabilidades...\n"
          ]
        }
      ]
    },
    {
      "cell_type": "code",
      "source": [
        "def suma(num1, num2):\n",
        "  resp = num1 + num2\n",
        "  return resp\n",
        "print(\"La suma es: \", suma(5,6))"
      ],
      "metadata": {
        "id": "K8AYy1xRwZpH",
        "outputId": "3f51850a-ecbd-4fc8-b564-c40ceac07bc8",
        "colab": {
          "base_uri": "https://localhost:8080/"
        }
      },
      "execution_count": 18,
      "outputs": [
        {
          "output_type": "stream",
          "name": "stdout",
          "text": [
            "La suma es:  11\n"
          ]
        }
      ]
    },
    {
      "cell_type": "code",
      "source": [
        "sumaNumeros = lambda num1, num2: num1 + num2 #funciones anonimas\n",
        "print(\"Suma:\", sumaNumeros(4, 6))"
      ],
      "metadata": {
        "id": "7jvF8v4Qwf6b",
        "outputId": "5588a59b-c725-46a3-d62d-22d7b1242ea5",
        "colab": {
          "base_uri": "https://localhost:8080/"
        }
      },
      "execution_count": 19,
      "outputs": [
        {
          "output_type": "stream",
          "name": "stdout",
          "text": [
            "Suma: 10\n"
          ]
        }
      ]
    },
    {
      "cell_type": "code",
      "source": [
        "etiquetas = [\n",
        "  [],\n",
        "  [\"Seleccione una divisa\", \"1. Dolares\", \n",
        "            \"2. Quetzalez\", \"3. Lempiras\", \"4. Cordobas\", \n",
        "            \"5. Pesos CR\", \"6. Euros\", \"7. Colon SV\", \n",
        "            \"8. Yenes\", \"9. Soles Peruanos\",\"10.Dolar Canadiense\"\n",
        "  ],\n",
        "  [\"Seleccione una longitud\", \"1. Metro\", \"2. Milimetro\", \n",
        "    \"3. Centimetro\", \n",
        "    \"4. Pie\", \"5. Varas\", \"6. Yardas\", \"7. Km\", \"8. Millas\", \"9.Nudos\", \"10.Años Luz\"],\n",
        "\n",
        "  [\"Sleccione una un almacenamiento\", \"1. Byte\", \"2. Kilobyte\", \"3. Megabyte\", \"4.Gigabyte\", \"5.Terabyte\", \"6.Petabyte\", \"7.Exabyte\", \"8.Zettabyte\", \"9.Yottabyte\", \"10.Brontobyte\"] #Almacenamiento\n",
        "]\n",
        "valores = [[],\n",
        "    [0,1, 7.71, 24.51, 35.77, 664.64, 0.98, 8.75, 134.13, 3.84, 1.30], #divisas\n",
        "    [0, 1, 1000, 100, 328.084, 1.1963081929167, 1.0936133, 0.001, 0.000621371, 0.5144, 0.00000000000000010570], #longitudes\n",
        "    [0,1, 1.024, 1.048576, 1.073741824, 1.099511627776, 1.125899906842624, 1.152921504606846976, 1.180591620717411303424, 1.208925819614629174706176, 1.237940039285380274899124224], #Almacenamiento\n",
        "      ]\n",
        "def convertir(conversor, de, a, cantidad):\n",
        "  return valores[conversor][a] / valores[conversor][de] * cantidad\n",
        "print(\"**MENU - CONVERSOR**\")\n",
        "print(\"1. Divisas\")\n",
        "print(\"2. Longitud\")\n",
        "print(\"3. Almacenamiento\")\n",
        "opcion = int(input(\"Conversor: \"))\n",
        "print(\"CONVERSOR ELEGIDO: \", etiquetas[opcion])\n",
        "de = int(input(\"DE: \"))\n",
        "a = int(input(\"A: \"))\n",
        "cantidad = int(input(\"Cantidad: \"))\n",
        "print( \"Conversion de \", etiquetas[opcion][de], \" a \", etiquetas[opcion][a], \" equivale a \", convertir(opcion, de, a, cantidad) )\n",
        "**MENU - CONVERSOR**\n",
        "1. Divisas\n",
        "2. Longitud\n",
        "3. Almacenamiento\n",
        "Conversor: 3\n",
        "CONVERSOR ELEGIDO:  ['Sleccione una un almacenamiento', '1. Byte', '2. Kilobyte', '3. Megabyte', '4.Gigabyte', '5.Terabyte', '6.Petabyte', '7.Exabyte', '8.Zettabyte', '9.Yottabyte', '10.Brontobyte']\n",
        "DE: 5\n",
        "A: 7\n",
        "Cantidad: 3\n",
        "Conversion de  5.Terabyte  a  7.Exabyte  equivale a  3.1457280000000005\n",
        "CONVERSOR DE MASAS, TIEMPO Y VOLUMEN.\n",
        "\n",
        "ETIQUETAS = [\n",
        "  [],\n",
        "  [\"Seleccione una Masa\", \"1. Picogramo\", \n",
        "            \"2. Nanogramo\", \"3. Microgramo\", \"4. Miligramo\", \n",
        "            \"5. Gramo\", \"6. Kilogramo\", \"7. Tonelada\", \n",
        "            \"8. Onza\", \"9. Libra\"\n",
        "  ],\n",
        "  [\"Seleccione un tiempo\", \"1. Segundo\", \"2. Minuto\", \n",
        "    \"3. Hora\", \"4. Dia\", \"5. Semana\", \"6. Quincena\", \"7. Mes\", \"8. Trimestre\", \"9.Semestre\", \"10.Año\"],\n",
        "    \n",
        "    [\"Seleccione un Volumen\", \"1. Litro\", \"2. Mililitro\", \"3. Galon\", \"4. Metro Cubico\", \"5. Pie Cubico\", \"6. Pulgada cubica\"]\n",
        "]\n",
        "VALORES = [[],\n",
        "    [0, 0.000000000001, 0.000000001, 0.000001, 0.001, 1, 1.000, 1.000000, 28.35, 453.59], \n",
        "    [0, 1, 60, 3.600, 86.400, 604.800, 1.296000, 2629743.8, 7889231.5, 1.5778463, 3.1556926 ],\n",
        "    [0, 1, 1.000, 0.219969, 0.001, 0.0353147, 61.0237]]\n",
        "def convertir(conversor, de, a, cantidad):\n",
        "  return VALORES[conversor][a] / VALORES[conversor][de] * cantidad\n",
        "print(\"**MENU - CONVERSOR**\")\n",
        "print(\"1. MASAS\")\n",
        "print(\"2. TIEMPO\")\n",
        "print(\"3. VOLUMEN\")\n",
        "opcion = int(input(\"Conversor: \"))\n",
        "print(\"CONVERSOR ELEGIDO: \", ETIQUETAS[opcion])\n",
        "de = int(input(\"DE: \"))\n",
        "a = int(input(\"A: \"))\n",
        "cantidad = int(input(\"Cantidad: \"))\n",
        "print( \"Conversion de \", ETIQUETAS[opcion][de], \" a \", ETIQUETAS[opcion][a], \" equivale a \", convertir(opcion, de, a, cantidad) )\n",
        "**MENU - CONVERSOR**\n",
        "1. MASAS\n",
        "2. TIEMPO\n",
        "3. VOLUMEN\n",
        "Conversor: 3\n",
        "CONVERSOR ELEGIDO:  ['Seleccione un Volumen', '1. Litro', '2. Mililitro', '3. Galon', '4. Metro Cubico', '5. Pie Cubico', '6. Pulgada cubica']\n",
        "DE: 1\n",
        "A: 2\n",
        "Cantidad: 5\n",
        "Conversion de  1. Litro  a  2. Mililitro  equivale a  5.0"
      ],
      "metadata": {
        "id": "VxL1L_4QwpWL",
        "outputId": "7f340798-7639-44eb-92ca-0127120ae7b6",
        "colab": {
          "base_uri": "https://localhost:8080/",
          "height": 134
        }
      },
      "execution_count": 21,
      "outputs": [
        {
          "output_type": "error",
          "ename": "SyntaxError",
          "evalue": "ignored",
          "traceback": [
            "\u001b[0;36m  File \u001b[0;32m\"<ipython-input-21-85e25f5f553e>\"\u001b[0;36m, line \u001b[0;32m31\u001b[0m\n\u001b[0;31m    **MENU - CONVERSOR**\u001b[0m\n\u001b[0m     ^\u001b[0m\n\u001b[0;31mSyntaxError\u001b[0m\u001b[0;31m:\u001b[0m invalid syntax\n"
          ]
        }
      ]
    },
    {
      "cell_type": "code",
      "source": [
        "#Tabla de meses acumulados a n meses. Si puede encontrar la formula matemática para evitar ciclos. (10%)\n",
        "\n",
        "mes = int(input(\"Escriba cuantos meses va a pagar: \"))\n",
        "def sum(mes):\n",
        "  n = mes\n",
        "  formula = n * (n + 1) / 2\n",
        "  total = formula\n",
        "  print(\"Mes:\", n, \"\\nAcumulado:\", total)\n",
        "\n",
        "sum(mes)"
      ],
      "metadata": {
        "colab": {
          "base_uri": "https://localhost:8080/"
        },
        "id": "iiCnp9bqpDFw",
        "outputId": "8e0dd8d9-da27-4f26-b26b-6b1c3b4607ed"
      },
      "execution_count": 8,
      "outputs": [
        {
          "output_type": "stream",
          "name": "stdout",
          "text": [
            "Escriba cuantos meses va a pagar: 2\n",
            "Mes: 2 \n",
            "Acumulado: 3.0\n"
          ]
        }
      ]
    },
    {
      "cell_type": "code",
      "source": [
        "#Calcular sobre el sueldo las deducciones por ley ISSS (3%), AFP(6.25%), ISR(Según tabla) e imprima el total deducciones y sueldo neto. (20%)\n",
        "\n",
        "\n",
        "def calcrDeduc(sa):\n",
        "\n",
        "  if sa >= 1000:\n",
        "    Iss = 30.00\n",
        "  else: \n",
        "    Iss = round(sa * 0.03, 2)\n",
        "\n",
        "  Afp = round(sa * 0.0625, 2)\n",
        "  Isr = sa - Iss - Afp\n",
        "  if Isr >= 0.01 and Isr <= 472.00:  \n",
        "    totalIsr = 0.00\n",
        "    salNetoMen = sa - Iss - Afp - totalIsr\n",
        "    #print(\"Primer tramo desde $0.01 hasta $472.00\")\n",
        "    print(\"No pagas renta\")\n",
        "\n",
        "  #Isr = sa - Iss - Afp #Ejem: 600-18(iss)-43.50(afp) -> 538.50 - sobreexcedente(472.00)=66.00 -> 66.00*(tas porcen)10%=6.60 ->6.60+(cuota fija)17.67=24.27 ISR\n",
        "\n",
        "  elif Isr >= 472.01 and Isr <= 895.24:\n",
        "    sobreExceso = 472.00 #valor sobre exceso por tramo\n",
        "    PorcApli = 0.1 #porcentaje aplicado por tramo\n",
        "    cuota = 17.67 #Cuota fija aplicado por tramo\n",
        "\n",
        "    totalIsr = round((Isr - sobreExceso), 2)\n",
        "    totalIsr = round((totalIsr * PorcApli)+cuota, 2)\n",
        "    print(\"Segundo tramo desde $472.01 hasta $895.24\")\n",
        "    salNetoMen = round(sa - Iss - Afp - totalIsr, 2)\n",
        "\n",
        "  elif Isr >= 895.25 and Isr <= 2038.10:\n",
        "    sobreExceso = 895.24 \n",
        "    PorcApli = 0.2\n",
        "    cuota = 60.00 \n",
        "\n",
        "    totalIsr = round((Isr - sobreExceso), 2)\n",
        "    totalIsr = round((totalIsr * PorcApli)+cuota, 2)\n",
        "    print(\"Tercer tramo desde $895.25 hasta $2,038.10\")\n",
        "    salNetoMen = round(sa - Iss - Afp - totalIsr, 2)\n",
        "\n",
        "  elif Isr >= 2038.11:\n",
        "    sobreExceso = 2038.10 \n",
        "    PorcApli = 0.3 \n",
        "    cuota = 288.57\n",
        "\n",
        "    totalIsr = round((Isr - sobreExceso), 2)\n",
        "    totalIsr = round((totalIsr * PorcApli)+cuota, 2)\n",
        "    print(\"Cuarto tramo desde $2,038.11 En adelante\")\n",
        "    salNetoMen = round(sa - Iss - Afp - totalIsr, 2)\n",
        "\n",
        "  print(\"-\"*30)\n",
        "  print(\"AFP:\", Afp, \"\\nISS:\", Iss, \"\\nISR (Renta):\", totalIsr, \"\\nSalario neto mensual:\", salNetoMen)\n",
        "  print(\"-\"*30)\n",
        "\n",
        "calcrDeduc(550)"
      ],
      "metadata": {
        "colab": {
          "base_uri": "https://localhost:8080/"
        },
        "id": "nAZY2ypgqJm_",
        "outputId": "7f3e978d-078d-4173-c840-efea41c19123"
      },
      "execution_count": 9,
      "outputs": [
        {
          "output_type": "stream",
          "name": "stdout",
          "text": [
            "Segundo tramo desde $472.01 hasta $895.24\n",
            "------------------------------\n",
            "AFP: 34.38 \n",
            "ISS: 16.5 \n",
            "ISR (Renta): 20.38 \n",
            "Salario neto mensual: 478.74\n",
            "------------------------------\n"
          ]
        }
      ]
    }
  ],
  "metadata": {
    "colab": {
      "collapsed_sections": [],
      "name": "Te damos la bienvenida a Colaboratory",
      "provenance": [],
      "include_colab_link": true
    },
    "kernelspec": {
      "display_name": "Python 3",
      "name": "python3"
    }
  },
  "nbformat": 4,
  "nbformat_minor": 0
}