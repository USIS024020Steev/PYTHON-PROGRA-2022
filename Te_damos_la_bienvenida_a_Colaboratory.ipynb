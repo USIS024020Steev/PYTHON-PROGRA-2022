{
  "cells": [
    {
      "cell_type": "markdown",
      "metadata": {
        "id": "view-in-github",
        "colab_type": "text"
      },
      "source": [
        "<a href=\"https://colab.research.google.com/github/USIS024020Steev/PYTHON-PROGRA-2022/blob/main/Te_damos_la_bienvenida_a_Colaboratory.ipynb\" target=\"_parent\"><img src=\"https://colab.research.google.com/assets/colab-badge.svg\" alt=\"Open In Colab\"/></a>"
      ]
    },
    {
      "cell_type": "code",
      "source": [
        "#Tabla de meses acumulados a n meses. Si puede encontrar la formula matemática para evitar ciclos. (10%)\n",
        "\n",
        "mes = int(input(\"Escriba cuantos meses va a pagar: \"))\n",
        "def sum(mes):\n",
        "  n = mes\n",
        "  formula = n * (n + 1) / 2\n",
        "  total = formula\n",
        "  print(\"Mes:\", n, \"\\nAcumulado:\", total)\n",
        "\n",
        "sum(mes)"
      ],
      "metadata": {
        "colab": {
          "base_uri": "https://localhost:8080/"
        },
        "id": "iiCnp9bqpDFw",
        "outputId": "8e0dd8d9-da27-4f26-b26b-6b1c3b4607ed"
      },
      "execution_count": 8,
      "outputs": [
        {
          "output_type": "stream",
          "name": "stdout",
          "text": [
            "Escriba cuantos meses va a pagar: 2\n",
            "Mes: 2 \n",
            "Acumulado: 3.0\n"
          ]
        }
      ]
    },
    {
      "cell_type": "markdown",
      "source": [
        "# Nueva sección"
      ],
      "metadata": {
        "id": "jeMaSCl4mtZm"
      }
    },
    {
      "cell_type": "markdown",
      "source": [
        "# Nueva sección"
      ],
      "metadata": {
        "id": "oKDxPEVzmt35"
      }
    }
  ],
  "metadata": {
    "colab": {
      "collapsed_sections": [],
      "name": "Te damos la bienvenida a Colaboratory",
      "provenance": [],
      "include_colab_link": true
    },
    "kernelspec": {
      "display_name": "Python 3",
      "name": "python3"
    }
  },
  "nbformat": 4,
  "nbformat_minor": 0
}